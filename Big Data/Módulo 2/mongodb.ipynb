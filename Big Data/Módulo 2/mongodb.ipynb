{
 "cells": [
  {
   "cell_type": "code",
   "execution_count": 67,
   "source": [
    "import pandas as pd\r\n",
    "import requests\r\n",
    "import json\r\n",
    "from pymongo import MongoClient"
   ],
   "outputs": [],
   "metadata": {}
  },
  {
   "cell_type": "code",
   "execution_count": 59,
   "source": [
    "# df = pd.read_json('mongodb.json')\r\n",
    "# df\r\n",
    "# with open('mongodb.json', 'r') as f:\r\n",
    "#   data = json.loads(f.read())\r\n",
    "# df = pd.json_normalize(data, record_path = 'user')\r\n",
    "# df\r\n",
    "# for d in dic:\r\n",
    "#   # print(d['user'])\r\n",
    "#   id = col.insert_one(d['user'])\r\n",
    "#   id.inserted_id\r\n",
    "with open('mongodb.json', 'r') as f:\r\n",
    "  data = json.loads(f.read())"
   ],
   "outputs": [],
   "metadata": {}
  },
  {
   "cell_type": "code",
   "execution_count": 62,
   "source": [
    "con = MongoClient('localhost')\r\n",
    "db = con.igti\r\n",
    "col = db.chess"
   ],
   "outputs": [],
   "metadata": {}
  },
  {
   "cell_type": "code",
   "execution_count": 63,
   "source": [
    "for d in data['user']:\r\n",
    "  # print(d)\r\n",
    "  id = col.insert_one(d)\r\n",
    "  id.inserted_id"
   ],
   "outputs": [],
   "metadata": {}
  },
  {
   "cell_type": "code",
   "execution_count": 72,
   "source": [
    "x = 0\r\n",
    "for d in data['user']:\r\n",
    "  res = requests.get(d['country'])\r\n",
    "  js = res.json()\r\n",
    "  if js['name'] == 'Brazil':\r\n",
    "    print(d['country'])\r\n",
    "    x += 1\r\n",
    "x"
   ],
   "outputs": [],
   "metadata": {}
  },
  {
   "cell_type": "code",
   "execution_count": null,
   "source": [
    "res = requests.get('http://api.chess.com/pub/player/magnuscarlsen')"
   ],
   "outputs": [],
   "metadata": {}
  },
  {
   "cell_type": "code",
   "execution_count": null,
   "source": [
    "res.json()"
   ],
   "outputs": [],
   "metadata": {}
  }
 ],
 "metadata": {
  "orig_nbformat": 4,
  "language_info": {
   "name": "python",
   "version": "3.9.5",
   "mimetype": "text/x-python",
   "codemirror_mode": {
    "name": "ipython",
    "version": 3
   },
   "pygments_lexer": "ipython3",
   "nbconvert_exporter": "python",
   "file_extension": ".py"
  },
  "kernelspec": {
   "name": "python3",
   "display_name": "Python 3.9.5 64-bit ('coleta_dados': venv)"
  },
  "interpreter": {
   "hash": "385d96f22b5f30bc149d182ee30e745a66bd9686432d7d76453759062248a707"
  }
 },
 "nbformat": 4,
 "nbformat_minor": 2
}