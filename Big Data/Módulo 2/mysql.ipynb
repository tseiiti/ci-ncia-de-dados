{
 "cells": [
  {
   "cell_type": "code",
   "execution_count": 1,
   "metadata": {},
   "outputs": [
    {
     "ename": "ModuleNotFoundError",
     "evalue": "No module named 'MySQLdb'",
     "output_type": "error",
     "traceback": [
      "\u001b[1;31m---------------------------------------------------------------------------\u001b[0m",
      "\u001b[1;31mModuleNotFoundError\u001b[0m                       Traceback (most recent call last)",
      "\u001b[1;32m~\\AppData\\Local\\Temp/ipykernel_19824/4262023197.py\u001b[0m in \u001b[0;36m<module>\u001b[1;34m\u001b[0m\n\u001b[0;32m      1\u001b[0m \u001b[1;32mimport\u001b[0m \u001b[0mpandas\u001b[0m \u001b[1;32mas\u001b[0m \u001b[0mpd\u001b[0m\u001b[1;33m\u001b[0m\u001b[1;33m\u001b[0m\u001b[0m\n\u001b[1;32m----> 2\u001b[1;33m \u001b[1;32mimport\u001b[0m \u001b[0mMySQLdb\u001b[0m\u001b[1;33m\u001b[0m\u001b[1;33m\u001b[0m\u001b[0m\n\u001b[0m\u001b[0;32m      3\u001b[0m \u001b[1;32mimport\u001b[0m \u001b[0msqlalchemy\u001b[0m\u001b[1;33m\u001b[0m\u001b[1;33m\u001b[0m\u001b[0m\n",
      "\u001b[1;31mModuleNotFoundError\u001b[0m: No module named 'MySQLdb'"
     ]
    }
   ],
   "source": [
    "import pandas as pd\n",
    "import MySQLdb\n",
    "import sqlalchemy"
   ]
  },
  {
   "cell_type": "code",
   "execution_count": 14,
   "metadata": {},
   "outputs": [],
   "source": [
    "df = pd.read_csv('mysql.csv', sep = ';')"
   ]
  },
  {
   "cell_type": "code",
   "execution_count": 15,
   "metadata": {},
   "outputs": [
    {
     "data": {
      "text/html": [
       "<div>\n",
       "<style scoped>\n",
       "    .dataframe tbody tr th:only-of-type {\n",
       "        vertical-align: middle;\n",
       "    }\n",
       "\n",
       "    .dataframe tbody tr th {\n",
       "        vertical-align: top;\n",
       "    }\n",
       "\n",
       "    .dataframe thead th {\n",
       "        text-align: right;\n",
       "    }\n",
       "</style>\n",
       "<table border=\"1\" class=\"dataframe\">\n",
       "  <thead>\n",
       "    <tr style=\"text-align: right;\">\n",
       "      <th></th>\n",
       "      <th>jogador</th>\n",
       "      <th>genero</th>\n",
       "      <th>data_nascimento</th>\n",
       "      <th>jogo</th>\n",
       "      <th>pais</th>\n",
       "      <th>num_vitorias</th>\n",
       "      <th>num_derrotas</th>\n",
       "      <th>total_partidas</th>\n",
       "    </tr>\n",
       "  </thead>\n",
       "  <tbody>\n",
       "    <tr>\n",
       "      <th>0</th>\n",
       "      <td>jogador 1</td>\n",
       "      <td>Masculino</td>\n",
       "      <td>03/09/1990</td>\n",
       "      <td>Dama</td>\n",
       "      <td>Chile</td>\n",
       "      <td>14.0</td>\n",
       "      <td>0.0</td>\n",
       "      <td>14.0</td>\n",
       "    </tr>\n",
       "    <tr>\n",
       "      <th>1</th>\n",
       "      <td>Jogador 2</td>\n",
       "      <td>Feminino</td>\n",
       "      <td>01/05/1986</td>\n",
       "      <td>Jogo da velha</td>\n",
       "      <td>Chile</td>\n",
       "      <td>39.0</td>\n",
       "      <td>20.0</td>\n",
       "      <td>59.0</td>\n",
       "    </tr>\n",
       "    <tr>\n",
       "      <th>2</th>\n",
       "      <td>Jogador 3</td>\n",
       "      <td>Masculino</td>\n",
       "      <td>04/10/1964</td>\n",
       "      <td>Jogo da velha</td>\n",
       "      <td>Brasil</td>\n",
       "      <td>26.0</td>\n",
       "      <td>3.0</td>\n",
       "      <td>29.0</td>\n",
       "    </tr>\n",
       "    <tr>\n",
       "      <th>3</th>\n",
       "      <td>Jogador 4</td>\n",
       "      <td>Masculino</td>\n",
       "      <td>28/09/1979</td>\n",
       "      <td>Jogo da velha</td>\n",
       "      <td>Argentina</td>\n",
       "      <td>9.0</td>\n",
       "      <td>72.0</td>\n",
       "      <td>81.0</td>\n",
       "    </tr>\n",
       "    <tr>\n",
       "      <th>4</th>\n",
       "      <td>Jogador 5</td>\n",
       "      <td>Masculino</td>\n",
       "      <td>03/09/1978</td>\n",
       "      <td>Dama</td>\n",
       "      <td>Uruguai</td>\n",
       "      <td>1.0</td>\n",
       "      <td>54.0</td>\n",
       "      <td>55.0</td>\n",
       "    </tr>\n",
       "  </tbody>\n",
       "</table>\n",
       "</div>"
      ],
      "text/plain": [
       "     jogador     genero data_nascimento           jogo       pais  \\\n",
       "0  jogador 1  Masculino      03/09/1990           Dama      Chile   \n",
       "1  Jogador 2   Feminino      01/05/1986  Jogo da velha      Chile   \n",
       "2  Jogador 3  Masculino      04/10/1964  Jogo da velha     Brasil   \n",
       "3  Jogador 4  Masculino      28/09/1979  Jogo da velha  Argentina   \n",
       "4  Jogador 5  Masculino      03/09/1978           Dama    Uruguai   \n",
       "\n",
       "   num_vitorias  num_derrotas  total_partidas  \n",
       "0          14.0           0.0            14.0  \n",
       "1          39.0          20.0            59.0  \n",
       "2          26.0           3.0            29.0  \n",
       "3           9.0          72.0            81.0  \n",
       "4           1.0          54.0            55.0  "
      ]
     },
     "execution_count": 15,
     "metadata": {},
     "output_type": "execute_result"
    }
   ],
   "source": [
    "df.head()"
   ]
  },
  {
   "cell_type": "code",
   "execution_count": 16,
   "metadata": {},
   "outputs": [
    {
     "name": "stdout",
     "output_type": "stream",
     "text": [
      "<class 'pandas.core.frame.DataFrame'>\n",
      "RangeIndex: 499 entries, 0 to 498\n",
      "Data columns (total 8 columns):\n",
      " #   Column           Non-Null Count  Dtype  \n",
      "---  ------           --------------  -----  \n",
      " 0   jogador          499 non-null    object \n",
      " 1   genero           499 non-null    object \n",
      " 2   data_nascimento  499 non-null    object \n",
      " 3   jogo             499 non-null    object \n",
      " 4   pais             499 non-null    object \n",
      " 5   num_vitorias     491 non-null    float64\n",
      " 6   num_derrotas     494 non-null    float64\n",
      " 7   total_partidas   491 non-null    float64\n",
      "dtypes: float64(3), object(5)\n",
      "memory usage: 31.3+ KB\n"
     ]
    }
   ],
   "source": [
    "df.describe()\n",
    "df.info()"
   ]
  },
  {
   "cell_type": "code",
   "execution_count": 17,
   "metadata": {},
   "outputs": [
    {
     "data": {
      "text/plain": [
       "jogador            0\n",
       "genero             0\n",
       "data_nascimento    0\n",
       "jogo               0\n",
       "pais               0\n",
       "num_vitorias       8\n",
       "num_derrotas       5\n",
       "total_partidas     8\n",
       "dtype: int64"
      ]
     },
     "execution_count": 17,
     "metadata": {},
     "output_type": "execute_result"
    }
   ],
   "source": [
    "df.isna().sum()"
   ]
  },
  {
   "cell_type": "code",
   "execution_count": 18,
   "metadata": {},
   "outputs": [
    {
     "data": {
      "text/plain": [
       "jogador            0\n",
       "genero             0\n",
       "data_nascimento    0\n",
       "jogo               0\n",
       "pais               0\n",
       "num_vitorias       0\n",
       "num_derrotas       0\n",
       "total_partidas     0\n",
       "dtype: int64"
      ]
     },
     "execution_count": 18,
     "metadata": {},
     "output_type": "execute_result"
    }
   ],
   "source": [
    "df.num_vitorias.fillna(df['total_partidas'] - df['num_derrotas'], inplace = True)\n",
    "df.num_derrotas.fillna(df['total_partidas'] - df['num_vitorias'], inplace = True)\n",
    "df.total_partidas.fillna(df['num_vitorias'] + df['num_derrotas'], inplace = True)\n",
    "df.isna().sum()"
   ]
  },
  {
   "cell_type": "code",
   "execution_count": 19,
   "metadata": {},
   "outputs": [],
   "source": [
    "lst_pais = list(df.pais.unique())\n",
    "lst_jogo = list(df.jogo.unique())"
   ]
  },
  {
   "cell_type": "code",
   "execution_count": 20,
   "metadata": {},
   "outputs": [],
   "source": [
    "usr = 'teste'\n",
    "pwd = 'teste'\n",
    "hst = '127.0.0.1'\n",
    "dbs = 'teste'\n",
    "str = f'mysql://{usr}:{pwd}@{hst}/{dbs}'\n",
    "\n",
    "con = sqlalchemy.create_engine(str).connect()"
   ]
  },
  {
   "cell_type": "code",
   "execution_count": 21,
   "metadata": {},
   "outputs": [],
   "source": [
    "def sql(query):\n",
    "  try:\n",
    "    con.execute(query)\n",
    "  except Exception as e:\n",
    "    print(f'Erro: {e} | Query: \"{query}\"')"
   ]
  },
  {
   "cell_type": "code",
   "execution_count": 22,
   "metadata": {},
   "outputs": [],
   "source": [
    "sql(f'delete from jogador;')\n",
    "sql(f'delete from pais;')\n",
    "sql(f'delete from jogo;')"
   ]
  },
  {
   "cell_type": "code",
   "execution_count": 23,
   "metadata": {},
   "outputs": [],
   "source": [
    "dic_pais = {}\n",
    "for cod, pais in enumerate(lst_pais):\n",
    "  query = f'insert into pais values({cod + 1}, \\'{pais}\\');'\n",
    "  sql(query)\n",
    "  dic_pais[pais] = cod + 1"
   ]
  },
  {
   "cell_type": "code",
   "execution_count": 24,
   "metadata": {},
   "outputs": [],
   "source": [
    "dic_jogo = {}\n",
    "for cod, jogo in enumerate(lst_jogo):\n",
    "  query = f'insert into jogo values({cod + 1}, \\'{jogo}\\');'\n",
    "  sql(query)\n",
    "  dic_jogo[jogo] = cod + 1"
   ]
  },
  {
   "cell_type": "code",
   "execution_count": 25,
   "metadata": {},
   "outputs": [
    {
     "data": {
      "text/html": [
       "<div>\n",
       "<style scoped>\n",
       "    .dataframe tbody tr th:only-of-type {\n",
       "        vertical-align: middle;\n",
       "    }\n",
       "\n",
       "    .dataframe tbody tr th {\n",
       "        vertical-align: top;\n",
       "    }\n",
       "\n",
       "    .dataframe thead th {\n",
       "        text-align: right;\n",
       "    }\n",
       "</style>\n",
       "<table border=\"1\" class=\"dataframe\">\n",
       "  <thead>\n",
       "    <tr style=\"text-align: right;\">\n",
       "      <th></th>\n",
       "      <th>jogador</th>\n",
       "      <th>genero</th>\n",
       "      <th>data_nascimento</th>\n",
       "      <th>jogo</th>\n",
       "      <th>pais</th>\n",
       "      <th>num_vitorias</th>\n",
       "      <th>num_derrotas</th>\n",
       "      <th>total_partidas</th>\n",
       "    </tr>\n",
       "  </thead>\n",
       "  <tbody>\n",
       "    <tr>\n",
       "      <th>0</th>\n",
       "      <td>jogador 1</td>\n",
       "      <td>Masculino</td>\n",
       "      <td>1990-03-09</td>\n",
       "      <td>1</td>\n",
       "      <td>1</td>\n",
       "      <td>14.0</td>\n",
       "      <td>0.0</td>\n",
       "      <td>14.0</td>\n",
       "    </tr>\n",
       "    <tr>\n",
       "      <th>1</th>\n",
       "      <td>Jogador 2</td>\n",
       "      <td>Feminino</td>\n",
       "      <td>1986-01-05</td>\n",
       "      <td>2</td>\n",
       "      <td>1</td>\n",
       "      <td>39.0</td>\n",
       "      <td>20.0</td>\n",
       "      <td>59.0</td>\n",
       "    </tr>\n",
       "    <tr>\n",
       "      <th>2</th>\n",
       "      <td>Jogador 3</td>\n",
       "      <td>Masculino</td>\n",
       "      <td>1964-04-10</td>\n",
       "      <td>2</td>\n",
       "      <td>2</td>\n",
       "      <td>26.0</td>\n",
       "      <td>3.0</td>\n",
       "      <td>29.0</td>\n",
       "    </tr>\n",
       "    <tr>\n",
       "      <th>3</th>\n",
       "      <td>Jogador 4</td>\n",
       "      <td>Masculino</td>\n",
       "      <td>1979-09-28</td>\n",
       "      <td>2</td>\n",
       "      <td>3</td>\n",
       "      <td>9.0</td>\n",
       "      <td>72.0</td>\n",
       "      <td>81.0</td>\n",
       "    </tr>\n",
       "    <tr>\n",
       "      <th>4</th>\n",
       "      <td>Jogador 5</td>\n",
       "      <td>Masculino</td>\n",
       "      <td>1978-03-09</td>\n",
       "      <td>1</td>\n",
       "      <td>4</td>\n",
       "      <td>1.0</td>\n",
       "      <td>54.0</td>\n",
       "      <td>55.0</td>\n",
       "    </tr>\n",
       "    <tr>\n",
       "      <th>...</th>\n",
       "      <td>...</td>\n",
       "      <td>...</td>\n",
       "      <td>...</td>\n",
       "      <td>...</td>\n",
       "      <td>...</td>\n",
       "      <td>...</td>\n",
       "      <td>...</td>\n",
       "      <td>...</td>\n",
       "    </tr>\n",
       "    <tr>\n",
       "      <th>494</th>\n",
       "      <td>Jogador 495</td>\n",
       "      <td>Feminino</td>\n",
       "      <td>1974-03-06</td>\n",
       "      <td>1</td>\n",
       "      <td>1</td>\n",
       "      <td>52.0</td>\n",
       "      <td>28.0</td>\n",
       "      <td>80.0</td>\n",
       "    </tr>\n",
       "    <tr>\n",
       "      <th>495</th>\n",
       "      <td>Jogador 496</td>\n",
       "      <td>Masculino</td>\n",
       "      <td>1959-09-02</td>\n",
       "      <td>1</td>\n",
       "      <td>1</td>\n",
       "      <td>13.0</td>\n",
       "      <td>51.0</td>\n",
       "      <td>64.0</td>\n",
       "    </tr>\n",
       "    <tr>\n",
       "      <th>496</th>\n",
       "      <td>Jogador 497</td>\n",
       "      <td>Masculino</td>\n",
       "      <td>1962-06-01</td>\n",
       "      <td>2</td>\n",
       "      <td>3</td>\n",
       "      <td>57.0</td>\n",
       "      <td>23.0</td>\n",
       "      <td>80.0</td>\n",
       "    </tr>\n",
       "    <tr>\n",
       "      <th>497</th>\n",
       "      <td>Jogador 498</td>\n",
       "      <td>Masculino</td>\n",
       "      <td>1958-09-28</td>\n",
       "      <td>2</td>\n",
       "      <td>1</td>\n",
       "      <td>5.0</td>\n",
       "      <td>3.0</td>\n",
       "      <td>8.0</td>\n",
       "    </tr>\n",
       "    <tr>\n",
       "      <th>498</th>\n",
       "      <td>Jogador 499</td>\n",
       "      <td>Feminino</td>\n",
       "      <td>2004-08-10</td>\n",
       "      <td>2</td>\n",
       "      <td>5</td>\n",
       "      <td>1.0</td>\n",
       "      <td>86.0</td>\n",
       "      <td>87.0</td>\n",
       "    </tr>\n",
       "  </tbody>\n",
       "</table>\n",
       "<p>499 rows × 8 columns</p>\n",
       "</div>"
      ],
      "text/plain": [
       "         jogador     genero data_nascimento  jogo  pais  num_vitorias  \\\n",
       "0      jogador 1  Masculino      1990-03-09     1     1          14.0   \n",
       "1      Jogador 2   Feminino      1986-01-05     2     1          39.0   \n",
       "2      Jogador 3  Masculino      1964-04-10     2     2          26.0   \n",
       "3      Jogador 4  Masculino      1979-09-28     2     3           9.0   \n",
       "4      Jogador 5  Masculino      1978-03-09     1     4           1.0   \n",
       "..           ...        ...             ...   ...   ...           ...   \n",
       "494  Jogador 495   Feminino      1974-03-06     1     1          52.0   \n",
       "495  Jogador 496  Masculino      1959-09-02     1     1          13.0   \n",
       "496  Jogador 497  Masculino      1962-06-01     2     3          57.0   \n",
       "497  Jogador 498  Masculino      1958-09-28     2     1           5.0   \n",
       "498  Jogador 499   Feminino      2004-08-10     2     5           1.0   \n",
       "\n",
       "     num_derrotas  total_partidas  \n",
       "0             0.0            14.0  \n",
       "1            20.0            59.0  \n",
       "2             3.0            29.0  \n",
       "3            72.0            81.0  \n",
       "4            54.0            55.0  \n",
       "..            ...             ...  \n",
       "494          28.0            80.0  \n",
       "495          51.0            64.0  \n",
       "496          23.0            80.0  \n",
       "497           3.0             8.0  \n",
       "498          86.0            87.0  \n",
       "\n",
       "[499 rows x 8 columns]"
      ]
     },
     "execution_count": 25,
     "metadata": {},
     "output_type": "execute_result"
    }
   ],
   "source": [
    "# df.data_nascimento\n",
    "# pd.to_datetime(df.data_nascimento)\n",
    "# df['data_nascimento1'] = pd.to_datetime(df.data_nascimento)\n",
    "df['data_nascimento'] = pd.to_datetime(df.data_nascimento)\n",
    "df.pais = df.pais.map(dic_pais)\n",
    "df.jogo = df.jogo.map(dic_jogo)\n",
    "df"
   ]
  },
  {
   "cell_type": "code",
   "execution_count": 26,
   "metadata": {},
   "outputs": [],
   "source": [
    "for j in df.itertuples():\n",
    "  query = f'insert into jogador values({j.Index + 1}, \\'{j.jogador}\\', \\'{j.genero}\\', \\'{j.data_nascimento}\\', {j.num_vitorias}, {j.num_derrotas}, {j.total_partidas}, {j.pais}, {j.jogo});'\n",
    "  # print(query)\n",
    "  sql(query)"
   ]
  }
 ],
 "metadata": {
  "interpreter": {
   "hash": "385d96f22b5f30bc149d182ee30e745a66bd9686432d7d76453759062248a707"
  },
  "kernelspec": {
   "display_name": "Python 3.9.5 64-bit ('coleta_dados': venv)",
   "name": "python3"
  },
  "language_info": {
   "codemirror_mode": {
    "name": "ipython",
    "version": 3
   },
   "file_extension": ".py",
   "mimetype": "text/x-python",
   "name": "python",
   "nbconvert_exporter": "python",
   "pygments_lexer": "ipython3",
   "version": "3.9.5"
  },
  "orig_nbformat": 4
 },
 "nbformat": 4,
 "nbformat_minor": 2
}
