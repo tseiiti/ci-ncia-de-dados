{
 "cells": [
  {
   "cell_type": "code",
   "execution_count": 13,
   "source": [
    "import pandas as pd\r\n",
    "import MySQLdb\r\n",
    "import sqlalchemy"
   ],
   "outputs": [],
   "metadata": {}
  },
  {
   "cell_type": "code",
   "execution_count": 14,
   "source": [
    "df = pd.read_csv('mysql.csv', sep = ';')"
   ],
   "outputs": [],
   "metadata": {}
  },
  {
   "cell_type": "code",
   "execution_count": 15,
   "source": [
    "df.head()"
   ],
   "outputs": [
    {
     "output_type": "execute_result",
     "data": {
      "text/html": [
       "<div>\n",
       "<style scoped>\n",
       "    .dataframe tbody tr th:only-of-type {\n",
       "        vertical-align: middle;\n",
       "    }\n",
       "\n",
       "    .dataframe tbody tr th {\n",
       "        vertical-align: top;\n",
       "    }\n",
       "\n",
       "    .dataframe thead th {\n",
       "        text-align: right;\n",
       "    }\n",
       "</style>\n",
       "<table border=\"1\" class=\"dataframe\">\n",
       "  <thead>\n",
       "    <tr style=\"text-align: right;\">\n",
       "      <th></th>\n",
       "      <th>jogador</th>\n",
       "      <th>genero</th>\n",
       "      <th>data_nascimento</th>\n",
       "      <th>jogo</th>\n",
       "      <th>pais</th>\n",
       "      <th>num_vitorias</th>\n",
       "      <th>num_derrotas</th>\n",
       "      <th>total_partidas</th>\n",
       "    </tr>\n",
       "  </thead>\n",
       "  <tbody>\n",
       "    <tr>\n",
       "      <th>0</th>\n",
       "      <td>jogador 1</td>\n",
       "      <td>Masculino</td>\n",
       "      <td>03/09/1990</td>\n",
       "      <td>Dama</td>\n",
       "      <td>Chile</td>\n",
       "      <td>14.0</td>\n",
       "      <td>0.0</td>\n",
       "      <td>14.0</td>\n",
       "    </tr>\n",
       "    <tr>\n",
       "      <th>1</th>\n",
       "      <td>Jogador 2</td>\n",
       "      <td>Feminino</td>\n",
       "      <td>01/05/1986</td>\n",
       "      <td>Jogo da velha</td>\n",
       "      <td>Chile</td>\n",
       "      <td>39.0</td>\n",
       "      <td>20.0</td>\n",
       "      <td>59.0</td>\n",
       "    </tr>\n",
       "    <tr>\n",
       "      <th>2</th>\n",
       "      <td>Jogador 3</td>\n",
       "      <td>Masculino</td>\n",
       "      <td>04/10/1964</td>\n",
       "      <td>Jogo da velha</td>\n",
       "      <td>Brasil</td>\n",
       "      <td>26.0</td>\n",
       "      <td>3.0</td>\n",
       "      <td>29.0</td>\n",
       "    </tr>\n",
       "    <tr>\n",
       "      <th>3</th>\n",
       "      <td>Jogador 4</td>\n",
       "      <td>Masculino</td>\n",
       "      <td>28/09/1979</td>\n",
       "      <td>Jogo da velha</td>\n",
       "      <td>Argentina</td>\n",
       "      <td>9.0</td>\n",
       "      <td>72.0</td>\n",
       "      <td>81.0</td>\n",
       "    </tr>\n",
       "    <tr>\n",
       "      <th>4</th>\n",
       "      <td>Jogador 5</td>\n",
       "      <td>Masculino</td>\n",
       "      <td>03/09/1978</td>\n",
       "      <td>Dama</td>\n",
       "      <td>Uruguai</td>\n",
       "      <td>1.0</td>\n",
       "      <td>54.0</td>\n",
       "      <td>55.0</td>\n",
       "    </tr>\n",
       "  </tbody>\n",
       "</table>\n",
       "</div>"
      ],
      "text/plain": [
       "     jogador     genero data_nascimento           jogo       pais  \\\n",
       "0  jogador 1  Masculino      03/09/1990           Dama      Chile   \n",
       "1  Jogador 2   Feminino      01/05/1986  Jogo da velha      Chile   \n",
       "2  Jogador 3  Masculino      04/10/1964  Jogo da velha     Brasil   \n",
       "3  Jogador 4  Masculino      28/09/1979  Jogo da velha  Argentina   \n",
       "4  Jogador 5  Masculino      03/09/1978           Dama    Uruguai   \n",
       "\n",
       "   num_vitorias  num_derrotas  total_partidas  \n",
       "0          14.0           0.0            14.0  \n",
       "1          39.0          20.0            59.0  \n",
       "2          26.0           3.0            29.0  \n",
       "3           9.0          72.0            81.0  \n",
       "4           1.0          54.0            55.0  "
      ]
     },
     "metadata": {},
     "execution_count": 15
    }
   ],
   "metadata": {}
  },
  {
   "cell_type": "code",
   "execution_count": 16,
   "source": [
    "df.describe()\r\n",
    "df.info()"
   ],
   "outputs": [
    {
     "output_type": "stream",
     "name": "stdout",
     "text": [
      "<class 'pandas.core.frame.DataFrame'>\n",
      "RangeIndex: 499 entries, 0 to 498\n",
      "Data columns (total 8 columns):\n",
      " #   Column           Non-Null Count  Dtype  \n",
      "---  ------           --------------  -----  \n",
      " 0   jogador          499 non-null    object \n",
      " 1   genero           499 non-null    object \n",
      " 2   data_nascimento  499 non-null    object \n",
      " 3   jogo             499 non-null    object \n",
      " 4   pais             499 non-null    object \n",
      " 5   num_vitorias     491 non-null    float64\n",
      " 6   num_derrotas     494 non-null    float64\n",
      " 7   total_partidas   491 non-null    float64\n",
      "dtypes: float64(3), object(5)\n",
      "memory usage: 31.3+ KB\n"
     ]
    }
   ],
   "metadata": {}
  },
  {
   "cell_type": "code",
   "execution_count": 17,
   "source": [
    "df.isna().sum()"
   ],
   "outputs": [
    {
     "output_type": "execute_result",
     "data": {
      "text/plain": [
       "jogador            0\n",
       "genero             0\n",
       "data_nascimento    0\n",
       "jogo               0\n",
       "pais               0\n",
       "num_vitorias       8\n",
       "num_derrotas       5\n",
       "total_partidas     8\n",
       "dtype: int64"
      ]
     },
     "metadata": {},
     "execution_count": 17
    }
   ],
   "metadata": {}
  },
  {
   "cell_type": "code",
   "execution_count": 18,
   "source": [
    "df.num_vitorias.fillna(df['total_partidas'] - df['num_derrotas'], inplace = True)\r\n",
    "df.num_derrotas.fillna(df['total_partidas'] - df['num_vitorias'], inplace = True)\r\n",
    "df.total_partidas.fillna(df['num_vitorias'] + df['num_derrotas'], inplace = True)\r\n",
    "df.isna().sum()"
   ],
   "outputs": [
    {
     "output_type": "execute_result",
     "data": {
      "text/plain": [
       "jogador            0\n",
       "genero             0\n",
       "data_nascimento    0\n",
       "jogo               0\n",
       "pais               0\n",
       "num_vitorias       0\n",
       "num_derrotas       0\n",
       "total_partidas     0\n",
       "dtype: int64"
      ]
     },
     "metadata": {},
     "execution_count": 18
    }
   ],
   "metadata": {}
  },
  {
   "cell_type": "code",
   "execution_count": 19,
   "source": [
    "lst_pais = list(df.pais.unique())\r\n",
    "lst_jogo = list(df.jogo.unique())"
   ],
   "outputs": [],
   "metadata": {}
  },
  {
   "cell_type": "code",
   "execution_count": 20,
   "source": [
    "usr = 'teste'\r\n",
    "pwd = 'teste'\r\n",
    "hst = '127.0.0.1'\r\n",
    "dbs = 'teste'\r\n",
    "str = f'mysql://{usr}:{pwd}@{hst}/{dbs}'\r\n",
    "\r\n",
    "con = sqlalchemy.create_engine(str).connect()"
   ],
   "outputs": [],
   "metadata": {}
  },
  {
   "cell_type": "code",
   "execution_count": 21,
   "source": [
    "def sql(query):\r\n",
    "  try:\r\n",
    "    con.execute(query)\r\n",
    "  except Exception as e:\r\n",
    "    print(f'Erro: {e} | Query: \"{query}\"')"
   ],
   "outputs": [],
   "metadata": {}
  },
  {
   "cell_type": "code",
   "execution_count": 22,
   "source": [
    "sql(f'delete from jogador;')\r\n",
    "sql(f'delete from pais;')\r\n",
    "sql(f'delete from jogo;')"
   ],
   "outputs": [],
   "metadata": {}
  },
  {
   "cell_type": "code",
   "execution_count": 23,
   "source": [
    "dic_pais = {}\r\n",
    "for cod, pais in enumerate(lst_pais):\r\n",
    "  query = f'insert into pais values({cod + 1}, \\'{pais}\\');'\r\n",
    "  sql(query)\r\n",
    "  dic_pais[pais] = cod + 1"
   ],
   "outputs": [],
   "metadata": {}
  },
  {
   "cell_type": "code",
   "execution_count": 24,
   "source": [
    "dic_jogo = {}\r\n",
    "for cod, jogo in enumerate(lst_jogo):\r\n",
    "  query = f'insert into jogo values({cod + 1}, \\'{jogo}\\');'\r\n",
    "  sql(query)\r\n",
    "  dic_jogo[jogo] = cod + 1"
   ],
   "outputs": [],
   "metadata": {}
  },
  {
   "cell_type": "code",
   "execution_count": 25,
   "source": [
    "# df.data_nascimento\r\n",
    "# pd.to_datetime(df.data_nascimento)\r\n",
    "# df['data_nascimento1'] = pd.to_datetime(df.data_nascimento)\r\n",
    "df['data_nascimento'] = pd.to_datetime(df.data_nascimento)\r\n",
    "df.pais = df.pais.map(dic_pais)\r\n",
    "df.jogo = df.jogo.map(dic_jogo)\r\n",
    "df"
   ],
   "outputs": [
    {
     "output_type": "execute_result",
     "data": {
      "text/html": [
       "<div>\n",
       "<style scoped>\n",
       "    .dataframe tbody tr th:only-of-type {\n",
       "        vertical-align: middle;\n",
       "    }\n",
       "\n",
       "    .dataframe tbody tr th {\n",
       "        vertical-align: top;\n",
       "    }\n",
       "\n",
       "    .dataframe thead th {\n",
       "        text-align: right;\n",
       "    }\n",
       "</style>\n",
       "<table border=\"1\" class=\"dataframe\">\n",
       "  <thead>\n",
       "    <tr style=\"text-align: right;\">\n",
       "      <th></th>\n",
       "      <th>jogador</th>\n",
       "      <th>genero</th>\n",
       "      <th>data_nascimento</th>\n",
       "      <th>jogo</th>\n",
       "      <th>pais</th>\n",
       "      <th>num_vitorias</th>\n",
       "      <th>num_derrotas</th>\n",
       "      <th>total_partidas</th>\n",
       "    </tr>\n",
       "  </thead>\n",
       "  <tbody>\n",
       "    <tr>\n",
       "      <th>0</th>\n",
       "      <td>jogador 1</td>\n",
       "      <td>Masculino</td>\n",
       "      <td>1990-03-09</td>\n",
       "      <td>1</td>\n",
       "      <td>1</td>\n",
       "      <td>14.0</td>\n",
       "      <td>0.0</td>\n",
       "      <td>14.0</td>\n",
       "    </tr>\n",
       "    <tr>\n",
       "      <th>1</th>\n",
       "      <td>Jogador 2</td>\n",
       "      <td>Feminino</td>\n",
       "      <td>1986-01-05</td>\n",
       "      <td>2</td>\n",
       "      <td>1</td>\n",
       "      <td>39.0</td>\n",
       "      <td>20.0</td>\n",
       "      <td>59.0</td>\n",
       "    </tr>\n",
       "    <tr>\n",
       "      <th>2</th>\n",
       "      <td>Jogador 3</td>\n",
       "      <td>Masculino</td>\n",
       "      <td>1964-04-10</td>\n",
       "      <td>2</td>\n",
       "      <td>2</td>\n",
       "      <td>26.0</td>\n",
       "      <td>3.0</td>\n",
       "      <td>29.0</td>\n",
       "    </tr>\n",
       "    <tr>\n",
       "      <th>3</th>\n",
       "      <td>Jogador 4</td>\n",
       "      <td>Masculino</td>\n",
       "      <td>1979-09-28</td>\n",
       "      <td>2</td>\n",
       "      <td>3</td>\n",
       "      <td>9.0</td>\n",
       "      <td>72.0</td>\n",
       "      <td>81.0</td>\n",
       "    </tr>\n",
       "    <tr>\n",
       "      <th>4</th>\n",
       "      <td>Jogador 5</td>\n",
       "      <td>Masculino</td>\n",
       "      <td>1978-03-09</td>\n",
       "      <td>1</td>\n",
       "      <td>4</td>\n",
       "      <td>1.0</td>\n",
       "      <td>54.0</td>\n",
       "      <td>55.0</td>\n",
       "    </tr>\n",
       "    <tr>\n",
       "      <th>...</th>\n",
       "      <td>...</td>\n",
       "      <td>...</td>\n",
       "      <td>...</td>\n",
       "      <td>...</td>\n",
       "      <td>...</td>\n",
       "      <td>...</td>\n",
       "      <td>...</td>\n",
       "      <td>...</td>\n",
       "    </tr>\n",
       "    <tr>\n",
       "      <th>494</th>\n",
       "      <td>Jogador 495</td>\n",
       "      <td>Feminino</td>\n",
       "      <td>1974-03-06</td>\n",
       "      <td>1</td>\n",
       "      <td>1</td>\n",
       "      <td>52.0</td>\n",
       "      <td>28.0</td>\n",
       "      <td>80.0</td>\n",
       "    </tr>\n",
       "    <tr>\n",
       "      <th>495</th>\n",
       "      <td>Jogador 496</td>\n",
       "      <td>Masculino</td>\n",
       "      <td>1959-09-02</td>\n",
       "      <td>1</td>\n",
       "      <td>1</td>\n",
       "      <td>13.0</td>\n",
       "      <td>51.0</td>\n",
       "      <td>64.0</td>\n",
       "    </tr>\n",
       "    <tr>\n",
       "      <th>496</th>\n",
       "      <td>Jogador 497</td>\n",
       "      <td>Masculino</td>\n",
       "      <td>1962-06-01</td>\n",
       "      <td>2</td>\n",
       "      <td>3</td>\n",
       "      <td>57.0</td>\n",
       "      <td>23.0</td>\n",
       "      <td>80.0</td>\n",
       "    </tr>\n",
       "    <tr>\n",
       "      <th>497</th>\n",
       "      <td>Jogador 498</td>\n",
       "      <td>Masculino</td>\n",
       "      <td>1958-09-28</td>\n",
       "      <td>2</td>\n",
       "      <td>1</td>\n",
       "      <td>5.0</td>\n",
       "      <td>3.0</td>\n",
       "      <td>8.0</td>\n",
       "    </tr>\n",
       "    <tr>\n",
       "      <th>498</th>\n",
       "      <td>Jogador 499</td>\n",
       "      <td>Feminino</td>\n",
       "      <td>2004-08-10</td>\n",
       "      <td>2</td>\n",
       "      <td>5</td>\n",
       "      <td>1.0</td>\n",
       "      <td>86.0</td>\n",
       "      <td>87.0</td>\n",
       "    </tr>\n",
       "  </tbody>\n",
       "</table>\n",
       "<p>499 rows × 8 columns</p>\n",
       "</div>"
      ],
      "text/plain": [
       "         jogador     genero data_nascimento  jogo  pais  num_vitorias  \\\n",
       "0      jogador 1  Masculino      1990-03-09     1     1          14.0   \n",
       "1      Jogador 2   Feminino      1986-01-05     2     1          39.0   \n",
       "2      Jogador 3  Masculino      1964-04-10     2     2          26.0   \n",
       "3      Jogador 4  Masculino      1979-09-28     2     3           9.0   \n",
       "4      Jogador 5  Masculino      1978-03-09     1     4           1.0   \n",
       "..           ...        ...             ...   ...   ...           ...   \n",
       "494  Jogador 495   Feminino      1974-03-06     1     1          52.0   \n",
       "495  Jogador 496  Masculino      1959-09-02     1     1          13.0   \n",
       "496  Jogador 497  Masculino      1962-06-01     2     3          57.0   \n",
       "497  Jogador 498  Masculino      1958-09-28     2     1           5.0   \n",
       "498  Jogador 499   Feminino      2004-08-10     2     5           1.0   \n",
       "\n",
       "     num_derrotas  total_partidas  \n",
       "0             0.0            14.0  \n",
       "1            20.0            59.0  \n",
       "2             3.0            29.0  \n",
       "3            72.0            81.0  \n",
       "4            54.0            55.0  \n",
       "..            ...             ...  \n",
       "494          28.0            80.0  \n",
       "495          51.0            64.0  \n",
       "496          23.0            80.0  \n",
       "497           3.0             8.0  \n",
       "498          86.0            87.0  \n",
       "\n",
       "[499 rows x 8 columns]"
      ]
     },
     "metadata": {},
     "execution_count": 25
    }
   ],
   "metadata": {}
  },
  {
   "cell_type": "code",
   "execution_count": 26,
   "source": [
    "for j in df.itertuples():\r\n",
    "  query = f'insert into jogador values({j.Index + 1}, \\'{j.jogador}\\', \\'{j.genero}\\', \\'{j.data_nascimento}\\', {j.num_vitorias}, {j.num_derrotas}, {j.total_partidas}, {j.pais}, {j.jogo});'\r\n",
    "  # print(query)\r\n",
    "  sql(query)"
   ],
   "outputs": [],
   "metadata": {}
  }
 ],
 "metadata": {
  "orig_nbformat": 4,
  "language_info": {
   "name": "python",
   "version": "3.9.5",
   "mimetype": "text/x-python",
   "codemirror_mode": {
    "name": "ipython",
    "version": 3
   },
   "pygments_lexer": "ipython3",
   "nbconvert_exporter": "python",
   "file_extension": ".py"
  },
  "kernelspec": {
   "name": "python3",
   "display_name": "Python 3.9.5 64-bit ('coleta_dados': venv)"
  },
  "interpreter": {
   "hash": "385d96f22b5f30bc149d182ee30e745a66bd9686432d7d76453759062248a707"
  }
 },
 "nbformat": 4,
 "nbformat_minor": 2
}