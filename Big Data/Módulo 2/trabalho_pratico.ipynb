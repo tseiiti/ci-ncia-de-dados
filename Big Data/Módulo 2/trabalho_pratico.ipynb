{
 "cells": [
  {
   "cell_type": "code",
   "execution_count": 204,
   "source": [
    "# !pip install mysqlclient\r\n",
    "# !pip install sqlalchemy"
   ],
   "outputs": [
    {
     "output_type": "stream",
     "name": "stdout",
     "text": [
      "Requirement already satisfied: mysqlclient in c:\\users\\tseii\\workspace\\python\\coleta_dados\\lib\\site-packages (2.0.3)\n"
     ]
    }
   ],
   "metadata": {}
  },
  {
   "cell_type": "code",
   "execution_count": 1,
   "source": [
    "import pandas as pd\r\n",
    "import os\r\n",
    "import MySQLdb\r\n",
    "import sqlalchemy"
   ],
   "outputs": [],
   "metadata": {}
  },
  {
   "cell_type": "code",
   "execution_count": 207,
   "source": [
    "path = 'base_trabalho_pratico\\\\'\r\n",
    "lst = []\r\n",
    "for arq in os.listdir(path):\r\n",
    "  a = os.path.join(path, arq)\r\n",
    "  df = pd.read_csv(a, sep = '|', encoding = 'latin-1')\r\n",
    "  lst.append(df)\r\n",
    "df_pesquisa = pd.concat(lst)\r\n",
    "df_pesquisa = df_pesquisa.reset_index()"
   ],
   "outputs": [],
   "metadata": {}
  },
  {
   "cell_type": "code",
   "execution_count": 208,
   "source": [
    "df_pesquisa = df_pesquisa.rename(columns={'data_coleta':'data_pesquisa', 'bebida_favorita': 'bebida', 'hobbies': 'hobbie'})\r\n",
    "df_pesquisa[:3]\r\n",
    "# df_pequisa.describe()\r\n",
    "# df_pequisa.info()\r\n",
    "# df_pequisa.count()"
   ],
   "outputs": [
    {
     "output_type": "execute_result",
     "data": {
      "text/html": [
       "<div>\n",
       "<style scoped>\n",
       "    .dataframe tbody tr th:only-of-type {\n",
       "        vertical-align: middle;\n",
       "    }\n",
       "\n",
       "    .dataframe tbody tr th {\n",
       "        vertical-align: top;\n",
       "    }\n",
       "\n",
       "    .dataframe thead th {\n",
       "        text-align: right;\n",
       "    }\n",
       "</style>\n",
       "<table border=\"1\" class=\"dataframe\">\n",
       "  <thead>\n",
       "    <tr style=\"text-align: right;\">\n",
       "      <th></th>\n",
       "      <th>index</th>\n",
       "      <th>cod_pessoa</th>\n",
       "      <th>data_pesquisa</th>\n",
       "      <th>genero</th>\n",
       "      <th>data_nascimento</th>\n",
       "      <th>animal_estimacao</th>\n",
       "      <th>clima</th>\n",
       "      <th>bebida</th>\n",
       "      <th>hobbie</th>\n",
       "    </tr>\n",
       "  </thead>\n",
       "  <tbody>\n",
       "    <tr>\n",
       "      <th>0</th>\n",
       "      <td>0</td>\n",
       "      <td>10141743</td>\n",
       "      <td>2020-01-01</td>\n",
       "      <td>Masculino</td>\n",
       "      <td>1981-04-25</td>\n",
       "      <td>peixe</td>\n",
       "      <td>frio</td>\n",
       "      <td>Cerveja</td>\n",
       "      <td>Praticar esporte</td>\n",
       "    </tr>\n",
       "    <tr>\n",
       "      <th>1</th>\n",
       "      <td>1</td>\n",
       "      <td>10141860</td>\n",
       "      <td>2020-01-01</td>\n",
       "      <td>Feminino</td>\n",
       "      <td>1966-01-19</td>\n",
       "      <td>peixe</td>\n",
       "      <td>quente</td>\n",
       "      <td>Café</td>\n",
       "      <td>Assistir TV</td>\n",
       "    </tr>\n",
       "    <tr>\n",
       "      <th>2</th>\n",
       "      <td>2</td>\n",
       "      <td>10142548</td>\n",
       "      <td>2020-01-01</td>\n",
       "      <td>Masculino</td>\n",
       "      <td>1973-08-02</td>\n",
       "      <td>tartaruga</td>\n",
       "      <td>frio</td>\n",
       "      <td>Café</td>\n",
       "      <td>Ler livros</td>\n",
       "    </tr>\n",
       "  </tbody>\n",
       "</table>\n",
       "</div>"
      ],
      "text/plain": [
       "   index  cod_pessoa data_pesquisa     genero data_nascimento  \\\n",
       "0      0    10141743    2020-01-01  Masculino      1981-04-25   \n",
       "1      1    10141860    2020-01-01   Feminino      1966-01-19   \n",
       "2      2    10142548    2020-01-01  Masculino      1973-08-02   \n",
       "\n",
       "  animal_estimacao   clima   bebida            hobbie  \n",
       "0            peixe    frio  Cerveja  Praticar esporte  \n",
       "1            peixe  quente     Café       Assistir TV  \n",
       "2        tartaruga    frio     Café        Ler livros  "
      ]
     },
     "metadata": {},
     "execution_count": 208
    }
   ],
   "metadata": {}
  },
  {
   "cell_type": "code",
   "execution_count": 209,
   "source": [
    "df_pesquisa[['cod_pessoa', 'data_pesquisa', 'genero', 'data_nascimento', 'animal_estimacao', 'clima', 'bebida', 'hobbie']].to_csv('pesquisa.csv', sep = ';', encoding = 'latin-1', index = False)"
   ],
   "outputs": [],
   "metadata": {}
  },
  {
   "cell_type": "code",
   "execution_count": 222,
   "source": [
    "df_pessoa = df_pesquisa[['cod_pessoa', 'genero', 'data_nascimento']].drop_duplicates()\r\n",
    "lst_hobbie = list(df_pesquisa.hobbie.unique())\r\n",
    "lst_clima = list(df_pesquisa.clima.unique())\r\n",
    "lst_bebida = list(df_pesquisa.bebida.unique())\r\n",
    "lst_animal_estimacao = list(df_pesquisa.animal_estimacao.unique())"
   ],
   "outputs": [],
   "metadata": {}
  },
  {
   "cell_type": "code",
   "execution_count": 211,
   "source": [
    "usr = 'teste'\r\n",
    "pwd = 'teste'\r\n",
    "hst = '127.0.0.1'\r\n",
    "dbs = 'teste'\r\n",
    "str = f'mysql://{usr}:{pwd}@{hst}/{dbs}'\r\n",
    "\r\n",
    "con = sqlalchemy.create_engine(str).connect()"
   ],
   "outputs": [],
   "metadata": {}
  },
  {
   "cell_type": "code",
   "execution_count": 212,
   "source": [
    "def sql(query):\r\n",
    "  try:\r\n",
    "    con.execute(query)\r\n",
    "  except Exception as e:\r\n",
    "    print(f'Erro: {e} | Query: \"{query}\"')\r\n"
   ],
   "outputs": [],
   "metadata": {}
  },
  {
   "cell_type": "code",
   "execution_count": 213,
   "source": [
    "dic_hobbie = {}\r\n",
    "for cod, hobbie in enumerate(lst_hobbie):\r\n",
    "  query = f'insert into hobbie values({cod + 1}, \\'{hobbie}\\');'\r\n",
    "  sql(query)\r\n",
    "  dic_hobbie[hobbie] = cod + 1"
   ],
   "outputs": [],
   "metadata": {}
  },
  {
   "cell_type": "code",
   "execution_count": 214,
   "source": [
    "dic_clima = {}\r\n",
    "for cod, clima in enumerate(lst_clima):\r\n",
    "  query = f'insert into clima values({cod + 1}, \\'{clima}\\');'\r\n",
    "  sql(query)\r\n",
    "  dic_clima[clima] = cod + 1"
   ],
   "outputs": [],
   "metadata": {}
  },
  {
   "cell_type": "code",
   "execution_count": 215,
   "source": [
    "dic_bebida = {}\r\n",
    "for cod, bebida in enumerate(lst_bebida):\r\n",
    "  query = f'insert into bebida values({cod + 1}, \\'{bebida}\\');'\r\n",
    "  sql(query)\r\n",
    "  dic_bebida[bebida] = cod + 1"
   ],
   "outputs": [],
   "metadata": {}
  },
  {
   "cell_type": "code",
   "execution_count": 216,
   "source": [
    "dic_animal_estimacao = {}\r\n",
    "for cod, animal_estimacao in enumerate(lst_animal_estimacao):\r\n",
    "  query = f'insert into animal_estimacao values({cod + 1}, \\'{animal_estimacao}\\');'\r\n",
    "  sql(query)\r\n",
    "  dic_animal_estimacao[animal_estimacao] = cod + 1"
   ],
   "outputs": [],
   "metadata": {}
  },
  {
   "cell_type": "code",
   "execution_count": 223,
   "source": [
    "\r\n",
    "for pessoa in df_pessoa.itertuples():\r\n",
    "  query = f'insert into pessoa values({pessoa.cod_pessoa}, \\'{pessoa.genero}\\', \\'{pessoa.data_nascimento}\\');'\r\n",
    "  sql(query)"
   ],
   "outputs": [],
   "metadata": {}
  },
  {
   "cell_type": "code",
   "execution_count": 217,
   "source": [
    "# df_hobbie = pd.read_sql('hobbie', con = con)\r\n",
    "# df_clima = pd.read_sql('clima', con = con)\r\n",
    "# df_bebida = pd.read_sql('bebida', con = con)\r\n",
    "# df_animal_estimacao = pd.read_sql('animal_estimacao', con = con)\r\n",
    "df_pesq = df_pesquisa[['cod_pessoa', 'data_pesquisa', 'genero', 'data_nascimento', 'animal_estimacao', 'clima', 'bebida', 'hobbie']]\r\n",
    "df_pesq.hobbie = df_pesquisa.hobbie.map(dic_hobbie)\r\n",
    "df_pesq.clima = df_pesquisa.clima.map(dic_clima)\r\n",
    "df_pesq.bebida = df_pesquisa.bebida.map(dic_bebida)\r\n",
    "df_pesq.animal_estimacao = df_pesquisa.animal_estimacao.map(dic_animal_estimacao)\r\n",
    "# df_pesq"
   ],
   "outputs": [
    {
     "output_type": "stream",
     "name": "stderr",
     "text": [
      "c:\\Users\\tseii\\WorkSpace\\Python\\coleta_dados\\lib\\site-packages\\pandas\\core\\generic.py:5516: SettingWithCopyWarning: \n",
      "A value is trying to be set on a copy of a slice from a DataFrame.\n",
      "Try using .loc[row_indexer,col_indexer] = value instead\n",
      "\n",
      "See the caveats in the documentation: https://pandas.pydata.org/pandas-docs/stable/user_guide/indexing.html#returning-a-view-versus-a-copy\n",
      "  self[name] = value\n"
     ]
    }
   ],
   "metadata": {}
  },
  {
   "cell_type": "code",
   "execution_count": 224,
   "source": [
    "for pesq in df_pesq.itertuples():\r\n",
    "  query = f'insert into pesquisa (data_pesquisa, cod_pessoa, cod_animal_estimacao, cod_bebida, cod_hobbie, cod_clima) values(\\'{pesq.data_pesquisa}\\', {pesq.cod_pessoa}, {pesq.animal_estimacao}, {pesq.bebida}, {pesq.hobbie}, {pesq.clima});'\r\n",
    "  sql(query)"
   ],
   "outputs": [],
   "metadata": {}
  }
 ],
 "metadata": {
  "interpreter": {
   "hash": "385d96f22b5f30bc149d182ee30e745a66bd9686432d7d76453759062248a707"
  },
  "kernelspec": {
   "display_name": "Python 3 (ipykernel)",
   "language": "python",
   "name": "python3"
  },
  "language_info": {
   "codemirror_mode": {
    "name": "ipython",
    "version": 3
   },
   "file_extension": ".py",
   "mimetype": "text/x-python",
   "name": "python",
   "nbconvert_exporter": "python",
   "pygments_lexer": "ipython3",
   "version": "3.9.5"
  }
 },
 "nbformat": 4,
 "nbformat_minor": 2
}