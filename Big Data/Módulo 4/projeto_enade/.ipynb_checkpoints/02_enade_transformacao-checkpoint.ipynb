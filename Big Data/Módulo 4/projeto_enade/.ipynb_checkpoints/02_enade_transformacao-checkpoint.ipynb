{
 "cells": [
  {
   "cell_type": "markdown",
   "id": "c244ac33-6e00-49dd-a5c2-6e03a9da336d",
   "metadata": {},
   "source": [
    "#Enade - Transformação de Dados - parte 01"
   ]
  },
  {
   "cell_type": "code",
   "execution_count": 1,
   "id": "4a51a9b8-767b-42fd-965b-1907a81f5d12",
   "metadata": {},
   "outputs": [],
   "source": [
    "# Importar as bibliotecas necessárias\n",
    "import pandas as pd\n",
    "import numpy as np\n",
    "import os"
   ]
  },
  {
   "cell_type": "code",
   "execution_count": 110,
   "id": "c86c227b-3769-46fc-b36e-5872c0ce3868",
   "metadata": {},
   "outputs": [],
   "source": [
    "orig = open('./enade2019/3.DADOS/microdados_enade_2019.txt', 'r')\n",
    "dest = open('./enade2019/3.DADOS/teste.txt', 'w')\n",
    "i = 0\n",
    "for line in orig:\n",
    "    dest.write(line.replace(' ;', 'NA;'))\n",
    "orig.close()\n",
    "dest.close()"
   ]
  },
  {
   "cell_type": "code",
   "execution_count": 111,
   "id": "ee9ff415-e418-4a24-a82e-bab1d0039407",
   "metadata": {},
   "outputs": [],
   "source": [
    "enade = pd.read_csv(\n",
    "    './enade2019/3.DADOS/teste.txt'\n",
    "    , sep = ';'\n",
    "    , decimal = ','\n",
    "    , low_memory = False\n",
    ")"
   ]
  },
  {
   "cell_type": "code",
   "execution_count": 112,
   "id": "3aab7531-26f8-4880-8751-9e44e2f430ed",
   "metadata": {},
   "outputs": [
    {
     "data": {
      "text/html": [
       "<div>\n",
       "<style scoped>\n",
       "    .dataframe tbody tr th:only-of-type {\n",
       "        vertical-align: middle;\n",
       "    }\n",
       "\n",
       "    .dataframe tbody tr th {\n",
       "        vertical-align: top;\n",
       "    }\n",
       "\n",
       "    .dataframe thead th {\n",
       "        text-align: right;\n",
       "    }\n",
       "</style>\n",
       "<table border=\"1\" class=\"dataframe\">\n",
       "  <thead>\n",
       "    <tr style=\"text-align: right;\">\n",
       "      <th></th>\n",
       "      <th>NU_ANO</th>\n",
       "      <th>CO_IES</th>\n",
       "      <th>CO_CATEGAD</th>\n",
       "      <th>CO_ORGACAD</th>\n",
       "      <th>CO_GRUPO</th>\n",
       "      <th>CO_CURSO</th>\n",
       "      <th>CO_MODALIDADE</th>\n",
       "      <th>CO_MUNIC_CURSO</th>\n",
       "      <th>CO_UF_CURSO</th>\n",
       "      <th>CO_REGIAO_CURSO</th>\n",
       "      <th>...</th>\n",
       "      <th>QE_I59</th>\n",
       "      <th>QE_I60</th>\n",
       "      <th>QE_I61</th>\n",
       "      <th>QE_I62</th>\n",
       "      <th>QE_I63</th>\n",
       "      <th>QE_I64</th>\n",
       "      <th>QE_I65</th>\n",
       "      <th>QE_I66</th>\n",
       "      <th>QE_I67</th>\n",
       "      <th>QE_I68</th>\n",
       "    </tr>\n",
       "  </thead>\n",
       "  <tbody>\n",
       "    <tr>\n",
       "      <th>0</th>\n",
       "      <td>2019</td>\n",
       "      <td>1</td>\n",
       "      <td>10002</td>\n",
       "      <td>10028</td>\n",
       "      <td>5710</td>\n",
       "      <td>3</td>\n",
       "      <td>1</td>\n",
       "      <td>5103403</td>\n",
       "      <td>51</td>\n",
       "      <td>5</td>\n",
       "      <td>...</td>\n",
       "      <td>2.0</td>\n",
       "      <td>5.0</td>\n",
       "      <td>1.0</td>\n",
       "      <td>1.0</td>\n",
       "      <td>2.0</td>\n",
       "      <td>5.0</td>\n",
       "      <td>8.0</td>\n",
       "      <td>7.0</td>\n",
       "      <td>1.0</td>\n",
       "      <td>2</td>\n",
       "    </tr>\n",
       "    <tr>\n",
       "      <th>1</th>\n",
       "      <td>2019</td>\n",
       "      <td>1</td>\n",
       "      <td>10002</td>\n",
       "      <td>10028</td>\n",
       "      <td>5710</td>\n",
       "      <td>3</td>\n",
       "      <td>1</td>\n",
       "      <td>5103403</td>\n",
       "      <td>51</td>\n",
       "      <td>5</td>\n",
       "      <td>...</td>\n",
       "      <td>1.0</td>\n",
       "      <td>4.0</td>\n",
       "      <td>2.0</td>\n",
       "      <td>2.0</td>\n",
       "      <td>2.0</td>\n",
       "      <td>5.0</td>\n",
       "      <td>4.0</td>\n",
       "      <td>4.0</td>\n",
       "      <td>2.0</td>\n",
       "      <td>2</td>\n",
       "    </tr>\n",
       "    <tr>\n",
       "      <th>2</th>\n",
       "      <td>2019</td>\n",
       "      <td>1</td>\n",
       "      <td>10002</td>\n",
       "      <td>10028</td>\n",
       "      <td>5710</td>\n",
       "      <td>3</td>\n",
       "      <td>1</td>\n",
       "      <td>5103403</td>\n",
       "      <td>51</td>\n",
       "      <td>5</td>\n",
       "      <td>...</td>\n",
       "      <td>3.0</td>\n",
       "      <td>4.0</td>\n",
       "      <td>4.0</td>\n",
       "      <td>3.0</td>\n",
       "      <td>3.0</td>\n",
       "      <td>4.0</td>\n",
       "      <td>1.0</td>\n",
       "      <td>1.0</td>\n",
       "      <td>1.0</td>\n",
       "      <td>4</td>\n",
       "    </tr>\n",
       "    <tr>\n",
       "      <th>3</th>\n",
       "      <td>2019</td>\n",
       "      <td>1</td>\n",
       "      <td>10002</td>\n",
       "      <td>10028</td>\n",
       "      <td>5710</td>\n",
       "      <td>3</td>\n",
       "      <td>1</td>\n",
       "      <td>5103403</td>\n",
       "      <td>51</td>\n",
       "      <td>5</td>\n",
       "      <td>...</td>\n",
       "      <td>3.0</td>\n",
       "      <td>5.0</td>\n",
       "      <td>2.0</td>\n",
       "      <td>2.0</td>\n",
       "      <td>2.0</td>\n",
       "      <td>3.0</td>\n",
       "      <td>3.0</td>\n",
       "      <td>4.0</td>\n",
       "      <td>3.0</td>\n",
       "      <td>3</td>\n",
       "    </tr>\n",
       "    <tr>\n",
       "      <th>4</th>\n",
       "      <td>2019</td>\n",
       "      <td>1</td>\n",
       "      <td>10002</td>\n",
       "      <td>10028</td>\n",
       "      <td>5710</td>\n",
       "      <td>3</td>\n",
       "      <td>1</td>\n",
       "      <td>5103403</td>\n",
       "      <td>51</td>\n",
       "      <td>5</td>\n",
       "      <td>...</td>\n",
       "      <td>NaN</td>\n",
       "      <td>NaN</td>\n",
       "      <td>NaN</td>\n",
       "      <td>NaN</td>\n",
       "      <td>NaN</td>\n",
       "      <td>NaN</td>\n",
       "      <td>NaN</td>\n",
       "      <td>NaN</td>\n",
       "      <td>NaN</td>\n",
       "      <td>NaN</td>\n",
       "    </tr>\n",
       "  </tbody>\n",
       "</table>\n",
       "<p>5 rows × 137 columns</p>\n",
       "</div>"
      ],
      "text/plain": [
       "   NU_ANO  CO_IES  CO_CATEGAD  CO_ORGACAD  CO_GRUPO  CO_CURSO  CO_MODALIDADE  \\\n",
       "0    2019       1       10002       10028      5710         3              1   \n",
       "1    2019       1       10002       10028      5710         3              1   \n",
       "2    2019       1       10002       10028      5710         3              1   \n",
       "3    2019       1       10002       10028      5710         3              1   \n",
       "4    2019       1       10002       10028      5710         3              1   \n",
       "\n",
       "   CO_MUNIC_CURSO  CO_UF_CURSO  CO_REGIAO_CURSO  ...  QE_I59 QE_I60  QE_I61  \\\n",
       "0         5103403           51                5  ...     2.0    5.0     1.0   \n",
       "1         5103403           51                5  ...     1.0    4.0     2.0   \n",
       "2         5103403           51                5  ...     3.0    4.0     4.0   \n",
       "3         5103403           51                5  ...     3.0    5.0     2.0   \n",
       "4         5103403           51                5  ...     NaN    NaN     NaN   \n",
       "\n",
       "   QE_I62  QE_I63  QE_I64  QE_I65  QE_I66  QE_I67  QE_I68  \n",
       "0     1.0     2.0     5.0     8.0     7.0     1.0       2  \n",
       "1     2.0     2.0     5.0     4.0     4.0     2.0       2  \n",
       "2     3.0     3.0     4.0     1.0     1.0     1.0       4  \n",
       "3     2.0     2.0     3.0     3.0     4.0     3.0       3  \n",
       "4     NaN     NaN     NaN     NaN     NaN     NaN     NaN  \n",
       "\n",
       "[5 rows x 137 columns]"
      ]
     },
     "execution_count": 112,
     "metadata": {},
     "output_type": "execute_result"
    }
   ],
   "source": [
    "enade.head()"
   ]
  },
  {
   "cell_type": "code",
   "execution_count": 107,
   "id": "d25e71d9-1229-4772-993c-250350d26622",
   "metadata": {
    "collapsed": true,
    "jupyter": {
     "outputs_hidden": true
    },
    "tags": []
   },
   "outputs": [
    {
     "data": {
      "text/plain": [
       "{'NU_ANO': dtype('int64'),\n",
       " 'CO_IES': dtype('int64'),\n",
       " 'CO_CATEGAD': dtype('int64'),\n",
       " 'CO_ORGACAD': dtype('int64'),\n",
       " 'CO_GRUPO': dtype('int64'),\n",
       " 'CO_CURSO': dtype('int64'),\n",
       " 'CO_MODALIDADE': dtype('int64'),\n",
       " 'CO_MUNIC_CURSO': dtype('int64'),\n",
       " 'CO_UF_CURSO': dtype('int64'),\n",
       " 'CO_REGIAO_CURSO': dtype('int64'),\n",
       " 'NU_IDADE': dtype('int64'),\n",
       " 'TP_SEXO': dtype('O'),\n",
       " 'ANO_FIM_EM': dtype('int64'),\n",
       " 'ANO_IN_GRAD': dtype('float64'),\n",
       " 'CO_TURNO_GRADUACAO': dtype('float64'),\n",
       " 'TP_INSCRICAO_ADM': dtype('int64'),\n",
       " 'TP_INSCRICAO': dtype('int64'),\n",
       " 'NU_ITEM_OFG': dtype('int64'),\n",
       " 'NU_ITEM_OFG_Z': dtype('int64'),\n",
       " 'NU_ITEM_OFG_X': dtype('int64'),\n",
       " 'NU_ITEM_OFG_N': dtype('int64'),\n",
       " 'NU_ITEM_OCE': dtype('int64'),\n",
       " 'NU_ITEM_OCE_Z': dtype('int64'),\n",
       " 'NU_ITEM_OCE_X': dtype('int64'),\n",
       " 'NU_ITEM_OCE_N': dtype('int64'),\n",
       " 'DS_VT_GAB_OFG_ORIG': dtype('O'),\n",
       " 'DS_VT_GAB_OFG_FIN': dtype('O'),\n",
       " 'DS_VT_GAB_OCE_ORIG': dtype('O'),\n",
       " 'DS_VT_GAB_OCE_FIN': dtype('O'),\n",
       " 'DS_VT_ESC_OFG': dtype('O'),\n",
       " 'DS_VT_ACE_OFG': dtype('float64'),\n",
       " 'DS_VT_ESC_OCE': dtype('O'),\n",
       " 'DS_VT_ACE_OCE': dtype('O'),\n",
       " 'TP_PRES': dtype('int64'),\n",
       " 'TP_PR_GER': dtype('int64'),\n",
       " 'TP_PR_OB_FG': dtype('int64'),\n",
       " 'TP_PR_DI_FG': dtype('int64'),\n",
       " 'TP_PR_OB_CE': dtype('int64'),\n",
       " 'TP_PR_DI_CE': dtype('int64'),\n",
       " 'TP_SFG_D1': dtype('int64'),\n",
       " 'TP_SFG_D2': dtype('int64'),\n",
       " 'TP_SCE_D1': dtype('int64'),\n",
       " 'TP_SCE_D2': dtype('int64'),\n",
       " 'TP_SCE_D3': dtype('int64'),\n",
       " 'NT_GER': dtype('float64'),\n",
       " 'NT_FG': dtype('float64'),\n",
       " 'NT_OBJ_FG': dtype('float64'),\n",
       " 'NT_DIS_FG': dtype('float64'),\n",
       " 'NT_FG_D1': dtype('float64'),\n",
       " 'NT_FG_D1_PT': dtype('float64'),\n",
       " 'NT_FG_D1_CT': dtype('float64'),\n",
       " 'NT_FG_D2': dtype('float64'),\n",
       " 'NT_FG_D2_PT': dtype('float64'),\n",
       " 'NT_FG_D2_CT': dtype('float64'),\n",
       " 'NT_CE': dtype('float64'),\n",
       " 'NT_OBJ_CE': dtype('float64'),\n",
       " 'NT_DIS_CE': dtype('float64'),\n",
       " 'NT_CE_D1': dtype('float64'),\n",
       " 'NT_CE_D2': dtype('float64'),\n",
       " 'NT_CE_D3': dtype('float64'),\n",
       " 'CO_RS_I1': dtype('O'),\n",
       " 'CO_RS_I2': dtype('O'),\n",
       " 'CO_RS_I3': dtype('O'),\n",
       " 'CO_RS_I4': dtype('O'),\n",
       " 'CO_RS_I5': dtype('O'),\n",
       " 'CO_RS_I6': dtype('O'),\n",
       " 'CO_RS_I7': dtype('O'),\n",
       " 'CO_RS_I8': dtype('O'),\n",
       " 'CO_RS_I9': dtype('O'),\n",
       " 'QE_I01': dtype('O'),\n",
       " 'QE_I02': dtype('O'),\n",
       " 'QE_I03': dtype('O'),\n",
       " 'QE_I04': dtype('O'),\n",
       " 'QE_I05': dtype('O'),\n",
       " 'QE_I06': dtype('O'),\n",
       " 'QE_I07': dtype('O'),\n",
       " 'QE_I08': dtype('O'),\n",
       " 'QE_I09': dtype('O'),\n",
       " 'QE_I10': dtype('O'),\n",
       " 'QE_I11': dtype('O'),\n",
       " 'QE_I12': dtype('O'),\n",
       " 'QE_I13': dtype('O'),\n",
       " 'QE_I14': dtype('O'),\n",
       " 'QE_I15': dtype('O'),\n",
       " 'QE_I16': dtype('float64'),\n",
       " 'QE_I17': dtype('O'),\n",
       " 'QE_I18': dtype('O'),\n",
       " 'QE_I19': dtype('O'),\n",
       " 'QE_I20': dtype('O'),\n",
       " 'QE_I21': dtype('O'),\n",
       " 'QE_I22': dtype('O'),\n",
       " 'QE_I23': dtype('O'),\n",
       " 'QE_I24': dtype('O'),\n",
       " 'QE_I25': dtype('O'),\n",
       " 'QE_I26': dtype('O'),\n",
       " 'QE_I27': dtype('float64'),\n",
       " 'QE_I28': dtype('float64'),\n",
       " 'QE_I29': dtype('float64'),\n",
       " 'QE_I30': dtype('float64'),\n",
       " 'QE_I31': dtype('float64'),\n",
       " 'QE_I32': dtype('float64'),\n",
       " 'QE_I33': dtype('float64'),\n",
       " 'QE_I34': dtype('float64'),\n",
       " 'QE_I35': dtype('float64'),\n",
       " 'QE_I36': dtype('float64'),\n",
       " 'QE_I37': dtype('float64'),\n",
       " 'QE_I38': dtype('float64'),\n",
       " 'QE_I39': dtype('float64'),\n",
       " 'QE_I40': dtype('float64'),\n",
       " 'QE_I41': dtype('float64'),\n",
       " 'QE_I42': dtype('float64'),\n",
       " 'QE_I43': dtype('float64'),\n",
       " 'QE_I44': dtype('float64'),\n",
       " 'QE_I45': dtype('float64'),\n",
       " 'QE_I46': dtype('float64'),\n",
       " 'QE_I47': dtype('float64'),\n",
       " 'QE_I48': dtype('float64'),\n",
       " 'QE_I49': dtype('float64'),\n",
       " 'QE_I50': dtype('float64'),\n",
       " 'QE_I51': dtype('float64'),\n",
       " 'QE_I52': dtype('float64'),\n",
       " 'QE_I53': dtype('float64'),\n",
       " 'QE_I54': dtype('float64'),\n",
       " 'QE_I55': dtype('float64'),\n",
       " 'QE_I56': dtype('float64'),\n",
       " 'QE_I57': dtype('float64'),\n",
       " 'QE_I58': dtype('float64'),\n",
       " 'QE_I59': dtype('float64'),\n",
       " 'QE_I60': dtype('float64'),\n",
       " 'QE_I61': dtype('float64'),\n",
       " 'QE_I62': dtype('float64'),\n",
       " 'QE_I63': dtype('float64'),\n",
       " 'QE_I64': dtype('float64'),\n",
       " 'QE_I65': dtype('float64'),\n",
       " 'QE_I66': dtype('float64'),\n",
       " 'QE_I67': dtype('float64'),\n",
       " 'QE_I68': dtype('O')}"
      ]
     },
     "execution_count": 107,
     "metadata": {},
     "output_type": "execute_result"
    }
   ],
   "source": [
    "# Verificando o schema d tabela\n",
    "dict(enade.dtypes)"
   ]
  },
  {
   "cell_type": "markdown",
   "id": "e8de034f-7228-455b-863e-229198bf0e2a",
   "metadata": {
    "jupyter": {
     "source_hidden": true
    },
    "tags": []
   },
   "source": [
    "- CO_IES\n",
    "- CO_CATEGAD\n",
    "- CO_GRUPO\n",
    "- CO_MODALIDADE\n",
    "- CO_UF_CURSO\n",
    "- CO_REGIAO_CURSO\n",
    "- NU_IDADE\n",
    "- TP_SEXO\n",
    "- NT_GER\n",
    "- NT_FG\n",
    "- NT_CE\n",
    "\n",
    "Mais alguns itens do questionário do estudante:\n",
    "- QE_I01: Qual o seu estado civil?\n",
    "- QE_I02: Qual é a sua cor ou raça?\n",
    "- QE_I04: Até que etapa de escolarização seu pai concluiu?\n",
    "- QE_I05: Até que etapa de escolarização sua mãe concluiu?\n",
    "- QE_I08: Qual a renda total de sua família, incluindo seus rendimentos?\n",
    "- QE_I10: Qual alternativa a seguir melhor descreve sua situação de trabalho (exceto estágio ou bolsas)?\n",
    "- QE_I11: Que tipo de bolsa de estudos ou financiamento do curso você recebeu para custear todas ou a maior parte das mensalidades? No caso de haver mais de uma opção, marcar apenas a bolsa de maior duração.\n",
    "- QE_I14: Durante o curso de graduação, você participou de programas e ou atividades curriculares no exterior?\n",
    "- QE_I15: Seu ingresso no curso de graduação se deu por meio de políticas de ação afirmativa ou inclusão social?\n",
    "- QE_I23: Quantas horas por semana, aproximadamente, você dedicou aos estudos, excetuando as horas de aula?\n",
    "- QE_I25: Qual o principal motivo para você ter escolhido este curso?\n",
    "- QE_I26: Qual a principal razão para você ter escolhido a sua instituição de educação superior?\n"
   ]
  },
  {
   "cell_type": "code",
   "execution_count": 113,
   "id": "476ed4bc-8661-4ae4-a191-23ca7d7fc8d9",
   "metadata": {},
   "outputs": [
    {
     "data": {
      "text/plain": [
       "count    390135.000000\n",
       "mean         44.080390\n",
       "std          14.545807\n",
       "min           0.000000\n",
       "25%          33.200000\n",
       "50%          43.800000\n",
       "75%          54.800000\n",
       "max          93.000000\n",
       "Name: NT_GER, dtype: float64"
      ]
     },
     "execution_count": 113,
     "metadata": {},
     "output_type": "execute_result"
    }
   ],
   "source": [
    "# NT_GER\n",
    "enade.NT_GER.describe()"
   ]
  },
  {
   "cell_type": "code",
   "execution_count": 114,
   "id": "b72b37eb-6856-4c67-a860-34f6bf7ad792",
   "metadata": {},
   "outputs": [
    {
     "data": {
      "text/plain": [
       "43795"
      ]
     },
     "execution_count": 114,
     "metadata": {},
     "output_type": "execute_result"
    }
   ],
   "source": [
    "# Contar o número de nulos\n",
    "enade.NT_GER.isnull().sum()"
   ]
  },
  {
   "cell_type": "code",
   "execution_count": 115,
   "id": "ca271893-3927-4224-98be-b11922551be0",
   "metadata": {},
   "outputs": [
    {
     "data": {
      "text/plain": [
       "(433930, 137)"
      ]
     },
     "execution_count": 115,
     "metadata": {},
     "output_type": "execute_result"
    }
   ],
   "source": [
    "# Quantidade de registros e quantidade de colunas\n",
    "enade.shape"
   ]
  },
  {
   "cell_type": "code",
   "execution_count": 116,
   "id": "34d3e77a-bfcb-43a9-ae35-6ff6ae35c18a",
   "metadata": {},
   "outputs": [
    {
     "data": {
      "text/plain": [
       "10.092641670315489"
      ]
     },
     "execution_count": 116,
     "metadata": {},
     "output_type": "execute_result"
    }
   ],
   "source": [
    "# Quantidade relativa de nulos\n",
    "enade.NT_GER.isnull().sum() / enade.shape[0] * 100"
   ]
  },
  {
   "cell_type": "code",
   "execution_count": 117,
   "id": "8004ae8f-b452-419c-8e8f-2e1ffcee2a0a",
   "metadata": {},
   "outputs": [
    {
     "data": {
      "text/plain": [
       "count    30769.000000\n",
       "mean        44.604609\n",
       "std         14.489081\n",
       "min          0.000000\n",
       "25%         33.900000\n",
       "50%         44.500000\n",
       "75%         55.300000\n",
       "max         91.600000\n",
       "Name: NT_GER, dtype: float64"
      ]
     },
     "execution_count": 117,
     "metadata": {},
     "output_type": "execute_result"
    }
   ],
   "source": [
    "# Acessando estatísticas descritivas da NOTA GERAL\n",
    "# apenas para os alunos da REGIÃO Centro-Oeste (5)\n",
    "enade.loc[\n",
    "    enade.CO_REGIAO_CURSO == 5\n",
    "].NT_GER.describe()"
   ]
  },
  {
   "cell_type": "code",
   "execution_count": 118,
   "id": "b4715d80-72d8-4214-9057-f0a27d5d815a",
   "metadata": {
    "tags": []
   },
   "outputs": [
    {
     "data": {
      "text/plain": [
       "count    389774.000000\n",
       "mean         44.121216\n",
       "std          14.490519\n",
       "min           0.300000\n",
       "25%          33.300000\n",
       "50%          43.800000\n",
       "75%          54.800000\n",
       "max          93.000000\n",
       "Name: NT_GER, dtype: float64"
      ]
     },
     "execution_count": 118,
     "metadata": {},
     "output_type": "execute_result"
    }
   ],
   "source": [
    "# Calculando estatísticas descritivas apenas para\n",
    "# alunos com NOTA maior do que zero\n",
    "enade.loc[\n",
    "    enade.NT_GER > 0\n",
    "].NT_GER.describe()"
   ]
  },
  {
   "cell_type": "code",
   "execution_count": 121,
   "id": "1c87aae8-0e47-41ca-8bb3-ac1c45bb4cde",
   "metadata": {},
   "outputs": [
    {
     "data": {
      "text/plain": [
       "count    385957.000000\n",
       "mean         44.153317\n",
       "std          14.531880\n",
       "min           0.000000\n",
       "25%          33.300000\n",
       "50%          43.900000\n",
       "75%          54.800000\n",
       "max          93.000000\n",
       "Name: NT_GER, dtype: float64"
      ]
     },
     "execution_count": 121,
     "metadata": {},
     "output_type": "execute_result"
    }
   ],
   "source": [
    "# Filtrando apenas alunos entre 20 e 50 anos\n",
    "enade.loc[\n",
    "    (enade.NU_IDADE >= 20) &\n",
    "    (enade.NU_IDADE <= 50)\n",
    "].NT_GER.describe()"
   ]
  },
  {
   "cell_type": "code",
   "execution_count": 127,
   "id": "159d2406-c65b-422b-b02e-60fc26c0ea21",
   "metadata": {},
   "outputs": [
    {
     "data": {
      "text/plain": [
       "F    53.759593\n",
       "M    46.240407\n",
       "Name: TP_SEXO, dtype: float64"
      ]
     },
     "execution_count": 127,
     "metadata": {},
     "output_type": "execute_result"
    }
   ],
   "source": [
    "# Tabela cruzada em porcentagem\n",
    "# Contar quantos homens e mulheres\n",
    "enade.TP_SEXO.value_counts() / enade.shape[0] * 100"
   ]
  },
  {
   "cell_type": "code",
   "execution_count": 130,
   "id": "09a9a727-b8ea-4205-8a13-7ccec9f1a195",
   "metadata": {},
   "outputs": [
    {
     "data": {
      "text/html": [
       "<div>\n",
       "<style scoped>\n",
       "    .dataframe tbody tr th:only-of-type {\n",
       "        vertical-align: middle;\n",
       "    }\n",
       "\n",
       "    .dataframe tbody tr th {\n",
       "        vertical-align: top;\n",
       "    }\n",
       "\n",
       "    .dataframe thead th {\n",
       "        text-align: right;\n",
       "    }\n",
       "</style>\n",
       "<table border=\"1\" class=\"dataframe\">\n",
       "  <thead>\n",
       "    <tr style=\"text-align: right;\">\n",
       "      <th></th>\n",
       "      <th>NT_GER</th>\n",
       "      <th>NT_FG</th>\n",
       "      <th>NT_CE</th>\n",
       "    </tr>\n",
       "  </thead>\n",
       "  <tbody>\n",
       "    <tr>\n",
       "      <th>count</th>\n",
       "      <td>390135.000000</td>\n",
       "      <td>390135.000000</td>\n",
       "      <td>390135.000000</td>\n",
       "    </tr>\n",
       "    <tr>\n",
       "      <th>mean</th>\n",
       "      <td>44.080390</td>\n",
       "      <td>39.838931</td>\n",
       "      <td>45.477586</td>\n",
       "    </tr>\n",
       "    <tr>\n",
       "      <th>std</th>\n",
       "      <td>14.545807</td>\n",
       "      <td>16.241311</td>\n",
       "      <td>16.646806</td>\n",
       "    </tr>\n",
       "    <tr>\n",
       "      <th>min</th>\n",
       "      <td>0.000000</td>\n",
       "      <td>0.000000</td>\n",
       "      <td>0.000000</td>\n",
       "    </tr>\n",
       "    <tr>\n",
       "      <th>25%</th>\n",
       "      <td>33.200000</td>\n",
       "      <td>28.500000</td>\n",
       "      <td>32.900000</td>\n",
       "    </tr>\n",
       "    <tr>\n",
       "      <th>50%</th>\n",
       "      <td>43.800000</td>\n",
       "      <td>39.300000</td>\n",
       "      <td>45.200000</td>\n",
       "    </tr>\n",
       "    <tr>\n",
       "      <th>75%</th>\n",
       "      <td>54.800000</td>\n",
       "      <td>51.300000</td>\n",
       "      <td>57.800000</td>\n",
       "    </tr>\n",
       "    <tr>\n",
       "      <th>max</th>\n",
       "      <td>93.000000</td>\n",
       "      <td>97.800000</td>\n",
       "      <td>100.000000</td>\n",
       "    </tr>\n",
       "  </tbody>\n",
       "</table>\n",
       "</div>"
      ],
      "text/plain": [
       "              NT_GER          NT_FG          NT_CE\n",
       "count  390135.000000  390135.000000  390135.000000\n",
       "mean       44.080390      39.838931      45.477586\n",
       "std        14.545807      16.241311      16.646806\n",
       "min         0.000000       0.000000       0.000000\n",
       "25%        33.200000      28.500000      32.900000\n",
       "50%        43.800000      39.300000      45.200000\n",
       "75%        54.800000      51.300000      57.800000\n",
       "max        93.000000      97.800000     100.000000"
      ]
     },
     "execution_count": 130,
     "metadata": {},
     "output_type": "execute_result"
    }
   ],
   "source": [
    "# Comparar as regiões - agregar com média\n",
    "enade[['NT_GER', 'NT_FG', 'NT_CE']].describe()"
   ]
  },
  {
   "cell_type": "code",
   "execution_count": 132,
   "id": "59362e3f-a1ae-4d95-ba3d-84d0d308df44",
   "metadata": {},
   "outputs": [
    {
     "data": {
      "text/html": [
       "<div>\n",
       "<style scoped>\n",
       "    .dataframe tbody tr th:only-of-type {\n",
       "        vertical-align: middle;\n",
       "    }\n",
       "\n",
       "    .dataframe tbody tr th {\n",
       "        vertical-align: top;\n",
       "    }\n",
       "\n",
       "    .dataframe thead th {\n",
       "        text-align: right;\n",
       "    }\n",
       "</style>\n",
       "<table border=\"1\" class=\"dataframe\">\n",
       "  <thead>\n",
       "    <tr style=\"text-align: right;\">\n",
       "      <th></th>\n",
       "      <th>NT_GER</th>\n",
       "      <th>NT_FG</th>\n",
       "      <th>NT_CE</th>\n",
       "    </tr>\n",
       "    <tr>\n",
       "      <th>CO_REGIAO_CURSO</th>\n",
       "      <th></th>\n",
       "      <th></th>\n",
       "      <th></th>\n",
       "    </tr>\n",
       "  </thead>\n",
       "  <tbody>\n",
       "    <tr>\n",
       "      <th>1</th>\n",
       "      <td>40.282753</td>\n",
       "      <td>37.119037</td>\n",
       "      <td>41.320522</td>\n",
       "    </tr>\n",
       "    <tr>\n",
       "      <th>2</th>\n",
       "      <td>43.788555</td>\n",
       "      <td>40.057649</td>\n",
       "      <td>45.015455</td>\n",
       "    </tr>\n",
       "    <tr>\n",
       "      <th>3</th>\n",
       "      <td>44.016319</td>\n",
       "      <td>40.144793</td>\n",
       "      <td>45.290297</td>\n",
       "    </tr>\n",
       "    <tr>\n",
       "      <th>4</th>\n",
       "      <td>45.767208</td>\n",
       "      <td>40.087748</td>\n",
       "      <td>47.643763</td>\n",
       "    </tr>\n",
       "    <tr>\n",
       "      <th>5</th>\n",
       "      <td>44.604609</td>\n",
       "      <td>39.180022</td>\n",
       "      <td>46.396032</td>\n",
       "    </tr>\n",
       "  </tbody>\n",
       "</table>\n",
       "</div>"
      ],
      "text/plain": [
       "                    NT_GER      NT_FG      NT_CE\n",
       "CO_REGIAO_CURSO                                 \n",
       "1                40.282753  37.119037  41.320522\n",
       "2                43.788555  40.057649  45.015455\n",
       "3                44.016319  40.144793  45.290297\n",
       "4                45.767208  40.087748  47.643763\n",
       "5                44.604609  39.180022  46.396032"
      ]
     },
     "execution_count": 132,
     "metadata": {},
     "output_type": "execute_result"
    }
   ],
   "source": [
    "# Comparar médias de notas por região\n",
    "enade.groupby('CO_REGIAO_CURSO').agg({\n",
    "    'NT_GER': 'mean', \n",
    "    'NT_FG' : 'mean',\n",
    "    'NT_CE' : 'mean'\n",
    "})"
   ]
  },
  {
   "cell_type": "code",
   "execution_count": 134,
   "id": "02290dec-42b0-40bb-bd1c-fbf892d30824",
   "metadata": {
    "jupyter": {
     "source_hidden": true
    },
    "tags": []
   },
   "outputs": [],
   "source": [
    "# enade.loc[\n",
    "#     (enade.QE_I68 != 1) &\n",
    "#     (enade.QE_I68 != 2) &\n",
    "#     (enade.QE_I68 != 3) &\n",
    "#     (enade.QE_I68 != 4) &\n",
    "#     (enade.QE_I68 != 5) &\n",
    "#     (enade.QE_I68 != 6) &\n",
    "#     (enade.QE_I68 != 7) &\n",
    "#     (enade.QE_I68 != 8) &\n",
    "#     (enade.QE_I68.notnull())\n",
    "# ]\n",
    "\n",
    "# orig = open('./enade2019/3.DADOS/microdados_enade_2019.txt', 'r')\n",
    "# dest = open('./enade2019/3.DADOS/teste.txt', 'w')\n",
    "# i = 0\n",
    "# for line in orig:\n",
    "#     if i == 0:\n",
    "#         dest.write(line)\n",
    "#     elif i > 500000:\n",
    "#         break\n",
    "#     elif i > 430000:\n",
    "#         dest.write(line.replace(' ;', 'NA;'))\n",
    "#     i += 1\n",
    "# #     dest.write(line)\n",
    "# #     i += 1\n",
    "# #     if i > 433890:\n",
    "# #         break\n",
    "# orig.close()\n",
    "# dest.close()\n",
    "\n",
    "# enade2 = pd.read_csv(\n",
    "#     './enade2019/3.DADOS/teste.txt'\n",
    "#     , sep = ';'\n",
    "#     , decimal = ','\n",
    "#     , dtype = { 'QE_I68': int }\n",
    "# )"
   ]
  },
  {
   "cell_type": "code",
   "execution_count": 139,
   "id": "cc8963fd-6553-4d29-826c-1d72fc249456",
   "metadata": {},
   "outputs": [
    {
     "data": {
      "text/plain": [
       "Privado    76.712603\n",
       "Público    23.268960\n",
       "            0.018436\n",
       "Name: DESC_PUBLICA, dtype: float64"
      ]
     },
     "execution_count": 139,
     "metadata": {},
     "output_type": "execute_result"
    }
   ],
   "source": [
    "# Criar nova coluna que identifica a categoria em instituições Privada ou Pública\n",
    "enade['DESC_PUBLICA'] = ''\n",
    "enade.loc[\n",
    "    enade.CO_CATEGAD.isin([118, 120, 121, 10005, 10006, 10007, 10008, 10009, 17634]), \n",
    "    'DESC_PUBLICA'\n",
    "] = 'Privado'\n",
    "enade.loc[\n",
    "    enade.CO_CATEGAD.isin([93, 115, 116, 10001, 10002, 10003]), \n",
    "    'DESC_PUBLICA'\n",
    "] = 'Público'\n",
    "\n",
    "enade.DESC_PUBLICA.value_counts() / enade.shape[0] * 100"
   ]
  },
  {
   "cell_type": "code",
   "execution_count": 141,
   "id": "e3c33f93-d790-4297-a3d3-b9d80ca8e231",
   "metadata": {},
   "outputs": [
    {
     "data": {
      "text/plain": [
       "Presencial    94.610191\n",
       "EaD            5.389809\n",
       "Name: CO_MODALIDADE, dtype: float64"
      ]
     },
     "execution_count": 141,
     "metadata": {},
     "output_type": "execute_result"
    }
   ],
   "source": [
    "# Transforma a coluna de modalidade\n",
    "# enade.CO_MODALIDADE.value_counts()\n",
    "enade['CO_MODALIDADE'] = enade.CO_MODALIDADE.replace({\n",
    "    0: 'EaD',\n",
    "    1: 'Presencial'\n",
    "})\n",
    "\n",
    "enade.CO_MODALIDADE.value_counts() / enade.shape[0] * 100"
   ]
  },
  {
   "cell_type": "code",
   "execution_count": 142,
   "id": "ba89fe66-8e52-4ae1-9e1c-3745670723c6",
   "metadata": {},
   "outputs": [
    {
     "data": {
      "text/plain": [
       "Sudeste         46.667665\n",
       "Nordeste        21.142120\n",
       "Sul             17.695942\n",
       "Centro-Oeste     7.879612\n",
       "Norte            6.614661\n",
       "Name: CO_REGIAO_CURSO, dtype: float64"
      ]
     },
     "execution_count": 142,
     "metadata": {},
     "output_type": "execute_result"
    }
   ],
   "source": [
    "# Transforma a coluna de região\n",
    "enade['CO_REGIAO_CURSO'] = enade.CO_REGIAO_CURSO.replace({\n",
    "    1: 'Norte', \n",
    "    2: 'Nordeste', \n",
    "    3: 'Sudeste', \n",
    "    4: 'Sul', \n",
    "    5: 'Centro-Oeste', \n",
    "})\n",
    "\n",
    "enade.CO_REGIAO_CURSO.value_counts() / enade.shape[0] * 100"
   ]
  },
  {
   "cell_type": "code",
   "execution_count": 149,
   "id": "f37f8b8b-8bcc-41bb-9883-384236d2cfff",
   "metadata": {},
   "outputs": [
    {
     "data": {
      "text/plain": [
       "Branca      50.788376\n",
       "Parda       31.288457\n",
       "Preta        7.574724\n",
       "Amarela      2.325951\n",
       "Indígena     0.299587\n",
       "Name: DESC_COR, dtype: float64"
      ]
     },
     "execution_count": 149,
     "metadata": {},
     "output_type": "execute_result"
    }
   ],
   "source": [
    "# Transforma a coluna de cor/raça\n",
    "# enade.QE_I02.value_counts()\n",
    "enade['DESC_COR'] = enade.QE_I02.replace({\n",
    "    'A': 'Branca',\n",
    "    'B': 'Preta',\n",
    "    'C': 'Amarela',\n",
    "    'D': 'Parda',\n",
    "    'E': 'Indígena',\n",
    "    'F': pd.NA,\n",
    "    ' ': pd.NA\n",
    "})\n",
    "\n",
    "enade.DESC_COR.value_counts() / enade.shape[0] * 100"
   ]
  },
  {
   "cell_type": "code",
   "execution_count": 144,
   "id": "71f2e132-1461-4c28-85a0-39bb63060c0d",
   "metadata": {},
   "outputs": [
    {
     "data": {
      "text/plain": [
       "A    220386\n",
       "D    135770\n",
       "B     32869\n",
       "C     10093\n",
       "F      7456\n",
       "E      1300\n",
       "Name: QE_I02, dtype: int64"
      ]
     },
     "execution_count": 144,
     "metadata": {},
     "output_type": "execute_result"
    }
   ],
   "source": [
    "enade.QE_I02.value_counts()# / enade.shape[0] * 100\n"
   ]
  },
  {
   "cell_type": "code",
   "execution_count": 147,
   "id": "2c40f46f-665b-494d-b079-a4c409ac1520",
   "metadata": {},
   "outputs": [
    {
     "data": {
      "text/plain": [
       "4         NaN\n",
       "39        NaN\n",
       "48        NaN\n",
       "105       NaN\n",
       "202       NaN\n",
       "         ... \n",
       "433726    NaN\n",
       "433856    NaN\n",
       "433890    NaN\n",
       "433898    NaN\n",
       "433914    NaN\n",
       "Name: QE_I02, Length: 26056, dtype: object"
      ]
     },
     "execution_count": 147,
     "metadata": {},
     "output_type": "execute_result"
    }
   ],
   "source": [
    "# Exemplo de select QE_I02 from enade where QE_I02 not in ('A', 'B', 'C', 'D', 'E', 'F')\n",
    "enade.loc[\n",
    "    ~enade.QE_I02.isin(['A', 'B', 'C', 'D', 'E', 'F'])\n",
    "].QE_I02"
   ]
  }
 ],
 "metadata": {
  "kernelspec": {
   "display_name": "Python 3",
   "language": "python",
   "name": "python3"
  },
  "language_info": {
   "codemirror_mode": {
    "name": "ipython",
    "version": 3
   },
   "file_extension": ".py",
   "mimetype": "text/x-python",
   "name": "python",
   "nbconvert_exporter": "python",
   "pygments_lexer": "ipython3",
   "version": "3.8.8"
  }
 },
 "nbformat": 4,
 "nbformat_minor": 5
}
